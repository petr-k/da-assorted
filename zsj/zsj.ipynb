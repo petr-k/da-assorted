{
 "cells": [
  {
   "cell_type": "code",
   "execution_count": 45,
   "metadata": {},
   "outputs": [],
   "source": [
    "import json\n",
    "import pandas as pd\n",
    "from shapely.geometry import shape"
   ]
  },
  {
   "cell_type": "code",
   "execution_count": 36,
   "metadata": {},
   "outputs": [],
   "source": [
    "with open('zsj_praha.geojson', encoding='utf-8') as f:\n",
    "    zsj_json = json.load(f)"
   ]
  },
  {
   "cell_type": "code",
   "execution_count": 37,
   "metadata": {},
   "outputs": [],
   "source": [
    "features = zsj_json[\"features\"]"
   ]
  },
  {
   "cell_type": "code",
   "execution_count": 38,
   "metadata": {},
   "outputs": [],
   "source": [
    "df = pd.DataFrame([{'KOD_ZSJ': f[\"properties\"][\"KOD_ZSJ\"], 'G': f[\"geometry\"]} for f in features])"
   ]
  },
  {
   "cell_type": "code",
   "execution_count": 39,
   "metadata": {},
   "outputs": [
    {
     "data": {
      "text/html": [
       "<div>\n",
       "<style scoped>\n",
       "    .dataframe tbody tr th:only-of-type {\n",
       "        vertical-align: middle;\n",
       "    }\n",
       "\n",
       "    .dataframe tbody tr th {\n",
       "        vertical-align: top;\n",
       "    }\n",
       "\n",
       "    .dataframe thead th {\n",
       "        text-align: right;\n",
       "    }\n",
       "</style>\n",
       "<table border=\"1\" class=\"dataframe\">\n",
       "  <thead>\n",
       "    <tr style=\"text-align: right;\">\n",
       "      <th></th>\n",
       "      <th>G</th>\n",
       "      <th>KOD_ZSJ</th>\n",
       "    </tr>\n",
       "  </thead>\n",
       "  <tbody>\n",
       "    <tr>\n",
       "      <th>0</th>\n",
       "      <td>{'type': 'Polygon', 'coordinates': [[[14.62463...</td>\n",
       "      <td>001520</td>\n",
       "    </tr>\n",
       "    <tr>\n",
       "      <th>1</th>\n",
       "      <td>{'type': 'Polygon', 'coordinates': [[[14.60481...</td>\n",
       "      <td>001538</td>\n",
       "    </tr>\n",
       "    <tr>\n",
       "      <th>2</th>\n",
       "      <td>{'type': 'Polygon', 'coordinates': [[[14.60236...</td>\n",
       "      <td>002585</td>\n",
       "    </tr>\n",
       "    <tr>\n",
       "      <th>3</th>\n",
       "      <td>{'type': 'Polygon', 'coordinates': [[[14.48537...</td>\n",
       "      <td>014133</td>\n",
       "    </tr>\n",
       "    <tr>\n",
       "      <th>4</th>\n",
       "      <td>{'type': 'Polygon', 'coordinates': [[[14.37074...</td>\n",
       "      <td>020362</td>\n",
       "    </tr>\n",
       "  </tbody>\n",
       "</table>\n",
       "</div>"
      ],
      "text/plain": [
       "                                                   G KOD_ZSJ\n",
       "0  {'type': 'Polygon', 'coordinates': [[[14.62463...  001520\n",
       "1  {'type': 'Polygon', 'coordinates': [[[14.60481...  001538\n",
       "2  {'type': 'Polygon', 'coordinates': [[[14.60236...  002585\n",
       "3  {'type': 'Polygon', 'coordinates': [[[14.48537...  014133\n",
       "4  {'type': 'Polygon', 'coordinates': [[[14.37074...  020362"
      ]
     },
     "execution_count": 39,
     "metadata": {},
     "output_type": "execute_result"
    }
   ],
   "source": [
    "df.head()"
   ]
  },
  {
   "cell_type": "code",
   "execution_count": 48,
   "metadata": {},
   "outputs": [],
   "source": [
    "def polygon_points(row):\n",
    "    geometry = shape(row['G'])\n",
    "    centroid = geometry.centroid\n",
    "    representative_point = geometry.representative_point()\n",
    "    return pd.Series([centroid.x, centroid.y,\n",
    "                      representative_point.x, representative_point.y])\n",
    "    \n",
    "df[['CENTROID_X', 'CENTROID_Y', 'REPRESENTATIVE_POINT_X', 'REPRESENTATIVE_POINT_Y']] = df.apply(polygon_points, axis=1)"
   ]
  },
  {
   "cell_type": "code",
   "execution_count": 50,
   "metadata": {},
   "outputs": [
    {
     "data": {
      "text/html": [
       "<div>\n",
       "<style scoped>\n",
       "    .dataframe tbody tr th:only-of-type {\n",
       "        vertical-align: middle;\n",
       "    }\n",
       "\n",
       "    .dataframe tbody tr th {\n",
       "        vertical-align: top;\n",
       "    }\n",
       "\n",
       "    .dataframe thead th {\n",
       "        text-align: right;\n",
       "    }\n",
       "</style>\n",
       "<table border=\"1\" class=\"dataframe\">\n",
       "  <thead>\n",
       "    <tr style=\"text-align: right;\">\n",
       "      <th></th>\n",
       "      <th>G</th>\n",
       "      <th>KOD_ZSJ</th>\n",
       "      <th>CENTROID_X</th>\n",
       "      <th>CENTROID_Y</th>\n",
       "      <th>REPRESENTATIVE_POINT_X</th>\n",
       "      <th>REPRESENTATIVE_POINT_Y</th>\n",
       "    </tr>\n",
       "  </thead>\n",
       "  <tbody>\n",
       "    <tr>\n",
       "      <th>0</th>\n",
       "      <td>{'type': 'Polygon', 'coordinates': [[[14.62463...</td>\n",
       "      <td>001520</td>\n",
       "      <td>14.617399</td>\n",
       "      <td>50.081496</td>\n",
       "      <td>14.615848</td>\n",
       "      <td>50.081293</td>\n",
       "    </tr>\n",
       "    <tr>\n",
       "      <th>1</th>\n",
       "      <td>{'type': 'Polygon', 'coordinates': [[[14.60481...</td>\n",
       "      <td>001538</td>\n",
       "      <td>14.600400</td>\n",
       "      <td>50.079369</td>\n",
       "      <td>14.600804</td>\n",
       "      <td>50.079167</td>\n",
       "    </tr>\n",
       "    <tr>\n",
       "      <th>2</th>\n",
       "      <td>{'type': 'Polygon', 'coordinates': [[[14.60236...</td>\n",
       "      <td>002585</td>\n",
       "      <td>14.603993</td>\n",
       "      <td>50.012297</td>\n",
       "      <td>14.602425</td>\n",
       "      <td>50.011942</td>\n",
       "    </tr>\n",
       "    <tr>\n",
       "      <th>3</th>\n",
       "      <td>{'type': 'Polygon', 'coordinates': [[[14.48537...</td>\n",
       "      <td>014133</td>\n",
       "      <td>14.483299</td>\n",
       "      <td>50.166254</td>\n",
       "      <td>14.482549</td>\n",
       "      <td>50.167025</td>\n",
       "    </tr>\n",
       "    <tr>\n",
       "      <th>4</th>\n",
       "      <td>{'type': 'Polygon', 'coordinates': [[[14.37074...</td>\n",
       "      <td>020362</td>\n",
       "      <td>14.349026</td>\n",
       "      <td>49.965903</td>\n",
       "      <td>14.356212</td>\n",
       "      <td>49.966736</td>\n",
       "    </tr>\n",
       "  </tbody>\n",
       "</table>\n",
       "</div>"
      ],
      "text/plain": [
       "                                                   G KOD_ZSJ  CENTROID_X  \\\n",
       "0  {'type': 'Polygon', 'coordinates': [[[14.62463...  001520   14.617399   \n",
       "1  {'type': 'Polygon', 'coordinates': [[[14.60481...  001538   14.600400   \n",
       "2  {'type': 'Polygon', 'coordinates': [[[14.60236...  002585   14.603993   \n",
       "3  {'type': 'Polygon', 'coordinates': [[[14.48537...  014133   14.483299   \n",
       "4  {'type': 'Polygon', 'coordinates': [[[14.37074...  020362   14.349026   \n",
       "\n",
       "   CENTROID_Y  REPRESENTATIVE_POINT_X  REPRESENTATIVE_POINT_Y  \n",
       "0   50.081496               14.615848               50.081293  \n",
       "1   50.079369               14.600804               50.079167  \n",
       "2   50.012297               14.602425               50.011942  \n",
       "3   50.166254               14.482549               50.167025  \n",
       "4   49.965903               14.356212               49.966736  "
      ]
     },
     "execution_count": 50,
     "metadata": {},
     "output_type": "execute_result"
    }
   ],
   "source": [
    "df.head()"
   ]
  },
  {
   "cell_type": "code",
   "execution_count": 52,
   "metadata": {},
   "outputs": [],
   "source": [
    "df.drop(['G'], axis=1).to_csv('zsj_praha_points.csv', index=False, encoding='utf-8')"
   ]
  }
 ],
 "metadata": {
  "kernelspec": {
   "display_name": "Python 3",
   "language": "python",
   "name": "python3"
  },
  "language_info": {
   "codemirror_mode": {
    "name": "ipython",
    "version": 3
   },
   "file_extension": ".py",
   "mimetype": "text/x-python",
   "name": "python",
   "nbconvert_exporter": "python",
   "pygments_lexer": "ipython3",
   "version": "3.6.4"
  }
 },
 "nbformat": 4,
 "nbformat_minor": 2
}
